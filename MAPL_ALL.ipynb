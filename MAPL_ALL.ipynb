{
 "cells": [
  {
   "cell_type": "markdown",
   "id": "fd3033b6-f83e-4e94-bd1e-78d210d8749b",
   "metadata": {
    "id": "fd3033b6-f83e-4e94-bd1e-78d210d8749b"
   },
   "source": [
    "# Imports and helper functions"
   ]
  },
  {
   "cell_type": "code",
   "execution_count": 1,
   "id": "1fe50f19-98c8-40b2-94a6-727025fbf9ae",
   "metadata": {
    "id": "1fe50f19-98c8-40b2-94a6-727025fbf9ae"
   },
   "outputs": [
    {
     "name": "stderr",
     "output_type": "stream",
     "text": [
      "/tmp/ipykernel_17811/4217639618.py:10: TqdmExperimentalWarning: Using `tqdm.autonotebook.tqdm` in notebook mode. Use `tqdm.tqdm` instead to force console mode (e.g. in jupyter console)\n",
      "  from tqdm.autonotebook import tqdm\n"
     ]
    }
   ],
   "source": [
    "import torch\n",
    "import scipy\n",
    "import random\n",
    "import numpy as np\n",
    "import pandas as pd\n",
    "import torch.nn as nn\n",
    "import torch.nn.functional as F\n",
    "from torch.utils.data import DataLoader\n",
    "from types import SimpleNamespace\n",
    "from tqdm.autonotebook import tqdm\n",
    "import gc\n",
    "from scipy.optimize import minimize, OptimizeResult\n",
    "\n",
    "# Set seeds for reproducibility\n",
    "seed = 0\n",
    "random.seed(seed)     \n",
    "np.random.seed(seed)\n",
    "torch.manual_seed(seed)\n",
    "torch.cuda.manual_seed_all(seed)\n",
    "torch.backends.cudnn.deterministic = True\n",
    "torch.backends.cudnn.benchmark = False\n",
    "\n",
    "def min_max_scaling(x, axis=0):\n",
    "    \"\"\" Normalize input across given axis. \"\"\"\n",
    "    xmax = np.max(x, axis=axis, keepdims=True)\n",
    "    xmin = np.min(x, axis=axis, keepdims=True)\n",
    "    return (x - xmin)/(xmax - xmin)\n",
    "\n",
    "def balance_panels(X, y, panels):\n",
    "    _, J, K = X.shape\n",
    "    _, p_obs = np.unique(panels, return_counts=True)\n",
    "    p_obs = (p_obs/J).astype(int)\n",
    "    N = len(p_obs)  # New N after accounting for panels\n",
    "    P = np.max(p_obs)  # Panel length for all records\n",
    "\n",
    "    Xbal, ybal, panel_info = np.zeros((N*P, J, K)), np.zeros((N*P, J)), np.zeros((N, P), dtype=bool)\n",
    "    cum_p = 0  # Cumulative sum of n_obs at every iteration\n",
    "    for n, p in enumerate(p_obs):\n",
    "        # Copy data from original to balanced version\n",
    "        Xbal[n*P:n*P + p, :, :] = X[cum_p:cum_p + p, :, :]\n",
    "        ybal[n*P:n*P + p, :] = y[cum_p:cum_p + p, :] \n",
    "        panel_info[n, :p] = True #np.ones(p)\n",
    "        cum_p += p\n",
    "    return Xbal.reshape(N, P, J, K), ybal.reshape(N, P, J), panel_info\n",
    "\n",
    "def batches_idx(batch_size, n_samples):\n",
    "    batch_size = n_samples if batch_size is None else min(n_samples, batch_size)\n",
    "    n_batches = n_samples//batch_size + int(n_samples % batch_size != 0)\n",
    "    return [(batch*batch_size, batch*batch_size + batch_size) \\\n",
    "        for batch in range(n_batches)]"
   ]
  },
  {
   "cell_type": "markdown",
   "id": "3747d0cb-5dc5-40b3-8e3b-5166613dc338",
   "metadata": {
    "id": "3747d0cb-5dc5-40b3-8e3b-5166613dc338"
   },
   "source": [
    "## Data Generation"
   ]
  },
  {
   "cell_type": "code",
   "execution_count": 2,
   "id": "637dfb63-c217-419d-bbe9-c0e40e193352",
   "metadata": {
    "id": "637dfb63-c217-419d-bbe9-c0e40e193352"
   },
   "outputs": [],
   "source": [
    "def generate_dataset(dgp=None, n_indiv=10_000, n_panels=10, n_alt=4):\n",
    "    if dgp == 'simul-mnl-1':\n",
    "        betas = np.array([-1.0, 1.0, 2.0])\n",
    "        coeff = betas\n",
    "    \n",
    "        n_attr = coeff.shape[-1]\n",
    "        # Generate x_i data and compute utilities\n",
    "        X = np.random.uniform(low=-1, high=1, size=(n_indiv, n_panels, n_alt, n_attr))\n",
    "        V = np.einsum(\"npjk,k -> npj\", X, coeff)\n",
    "\n",
    "    if dgp == 'simul-indep-norm':\n",
    "        betas = np.array([-1, 1.0, 2.0, 1.5, 2.5])\n",
    "        beta_0 = betas[0]\n",
    "        mu, omega = betas[[1, 2]], np.diag(betas[[3, 4]])\n",
    "    \n",
    "        # Generate coefficients\n",
    "        coeff = np.hstack((np.full((n_indiv, 1), beta_0),\n",
    "                           np.random.multivariate_normal(mu, omega, n_indiv)))  # (n_indiv, 4)\n",
    "        n_attr = coeff.shape[-1]\n",
    "        # Generate x_i data and compute utilities\n",
    "        X = np.random.uniform(low=-1, high=1, size=(n_indiv, n_panels, n_alt, n_attr))\n",
    "        V = np.einsum(\"npjk,nk -> npj\", X, coeff)\n",
    "\n",
    "    if dgp == 'simul-indep-norm-k5':\n",
    "        betas = np.array([-1, 1.0, 1.3, 1.5, 1.7, 2.0,\n",
    "                          0.5, 0.7, 0.9, 1.1, 1.3])\n",
    "        beta_0 = betas[0]\n",
    "        mu, omega = betas[1:6], np.diag(betas[6:12])\n",
    "    \n",
    "        # Generate coefficients\n",
    "        coeff = np.hstack((np.full((n_indiv, 1), beta_0),\n",
    "                           np.random.multivariate_normal(mu, omega, n_indiv)))  # (n_indiv, 4)\n",
    "        n_attr = coeff.shape[-1]\n",
    "        # Generate x_i data and compute utilities\n",
    "        X = np.random.uniform(low=-1, high=1, size=(n_indiv, n_panels, n_alt, n_attr))\n",
    "        V = np.einsum(\"npjk,nk -> npj\", X, coeff)\n",
    "\n",
    "    if dgp == 'simul-indep-norm-k10':\n",
    "        betas = np.array([-1, 1.0, 1.3, 1.5, 1.7, 2.0, 2.2, 2.4, 2.6, 2.8, 3.0,\n",
    "                          0.5, 0.7, 0.9, 1.1, 1.3, 1.5, 1.7, 1.9, 2.1, 2.2])\n",
    "        beta_0 = betas[0]\n",
    "        mu, omega = betas[1:11], np.diag(betas[11:21])\n",
    "    \n",
    "        # Generate coefficients\n",
    "        coeff = np.hstack((np.full((n_indiv, 1), beta_0),\n",
    "                           np.random.multivariate_normal(mu, omega, n_indiv)))  # (n_indiv, 4)\n",
    "        n_attr = coeff.shape[-1]\n",
    "        # Generate x_i data and compute utilities\n",
    "        X = np.random.uniform(low=-1, high=1, size=(n_indiv, n_panels, n_alt, n_attr))\n",
    "        V = np.einsum(\"npjk,nk -> npj\", X, coeff)\n",
    "    \n",
    "    if dgp == 'simul-correl-norm':\n",
    "        betas = np.array([-1, 1.0, 2.0, 1.5, 2.5, .7])\n",
    "        beta_0 = betas[0]\n",
    "        mu, omega = betas[[1, 2]], np.array([[betas[3], betas[5]], [betas[5], betas[4]]])\n",
    "    \n",
    "        # Generate coefficients\n",
    "        coeff = np.hstack((np.full((n_indiv, 1), beta_0),\n",
    "                           np.random.multivariate_normal(mu, omega, n_indiv)))  # (n_indiv, 4)\n",
    "        n_attr = coeff.shape[-1]\n",
    "        # Generate x_i data and compute utilities\n",
    "        X = np.random.uniform(low=-1, high=1, size=(n_indiv, n_panels, n_alt, n_attr))\n",
    "        V = np.einsum(\"npjk,nk -> npj\", X, coeff)\n",
    "\n",
    "    if dgp == 'simul-indep-lognorm':\n",
    "        betas = np.array([-1, .5, .8, .1, .2])  \n",
    "        beta_0 = betas[0]\n",
    "        mu, omega = betas[[1, 2]], np.diag(betas[[3, 4]])\n",
    "    \n",
    "        # Generate coefficients\n",
    "        coeff = np.hstack((np.full((n_indiv, 1), beta_0),\n",
    "                           np.random.multivariate_normal(mu, omega, n_indiv)))  # (n_indiv, 4)\n",
    "        n_attr = coeff.shape[-1]\n",
    "        # Generate x_i data and compute utilities\n",
    "        X = np.random.uniform(low=-1, high=1, size=(n_indiv, n_panels, n_alt, n_attr))\n",
    "        V = (X[:, :, :, 0]*coeff[:, None, None, 0] +\n",
    "             np.exp(X[:, :, :, 1]*coeff[:, None, None, 1]) +\n",
    "             np.exp(X[:, :, :, 2]*coeff[:, None, None, 2]))\n",
    "        V[V > 70] = 70\n",
    "\n",
    "    if dgp == 'simul-indep-norm-inter':\n",
    "        betas = np.array([-1, 1.0, 2.0, 1.5, 2.5, 2.5])\n",
    "        beta_0 = betas[0]\n",
    "        mu, omega = betas[[1, 2]], np.diag(betas[[3, 4]])\n",
    "        beta_3 = betas[5]\n",
    "    \n",
    "        # Generate coefficients\n",
    "        coeff = np.hstack((np.full((n_indiv, 1), beta_0),\n",
    "                           np.random.multivariate_normal(mu, omega, n_indiv),\n",
    "                           np.full((n_indiv, 1), beta_3)))  # (n_indiv, k)\n",
    "        n_attr = coeff.shape[-1] - 1\n",
    "        # Generate x_i data and compute utilities\n",
    "        X = np.random.uniform(low=-1, high=1, size=(n_indiv, n_panels, n_alt, n_attr))\n",
    "        V = (X[:, :, :, 0]*coeff[:, None, None, 0] +\n",
    "             X[:, :, :, 1]*coeff[:, None, None, 1] +\n",
    "             X[:, :, :, 2]*coeff[:, None, None, 2] +\n",
    "             X[:, :, :, 0]*X[:, :, :, 1]*coeff[:, None, None, 3])\n",
    "\n",
    "    if dgp == 'simul-indep-norm-nonlinear':\n",
    "        betas = np.array([-1, 1.0, 2.0, 1.5, 2.5, 2.5])\n",
    "        beta_0 = betas[0]\n",
    "        mu, omega = betas[[1, 2]], np.diag(betas[[3, 4]])\n",
    "        beta_3 = betas[5]\n",
    "    \n",
    "        # Generate coefficients\n",
    "        coeff = np.hstack((np.full((n_indiv, 1), beta_0),\n",
    "                           np.random.multivariate_normal(mu, omega, n_indiv),\n",
    "                           np.full((n_indiv, 1), beta_3)))  # (n_indiv, 4)\n",
    "        \n",
    "        n_attr = coeff.shape[-1] - 1\n",
    "        # Generate x_i data and compute utilities\n",
    "        X = np.random.uniform(low=-1, high=1, size=(n_indiv, n_panels, n_alt, n_attr))\n",
    "        V = (X[:, :, :, 0]*coeff[:, None, None, 0] +\n",
    "             X[:, :, :, 1]*coeff[:, None, None, 1] +\n",
    "             X[:, :, :, 2]*coeff[:, None, None, 2] +\n",
    "             (X[:, :, :, 1]**2)*coeff[:, None, None, 3]\n",
    "            )\n",
    "        V[V > 70] = 70\n",
    "    # Compute probabilities\n",
    "    eV = np.exp(V)\n",
    "    proba = eV/eV.sum(axis=2, keepdims=True)\n",
    "\n",
    "    # Simulate Choices\n",
    "    y = np.apply_along_axis(lambda p: np.random.choice(n_alt, p=p), 1, proba.reshape(-1, n_alt))\n",
    "    y = (np.eye(n_alt)[y]).reshape(n_indiv, n_panels, n_alt)\n",
    "\n",
    "    return X, y, betas\n",
    "\n",
    "def true_loglik(betas, X, y, dgp, n_draws=1024, n_rpar=2):\n",
    "    \"\"\" Computes the log-likelihood at the true values of a DGP\"\"\"\n",
    "    n_indiv = X.shape[0]\n",
    "    draws = np.random.standard_normal((n_indiv, n_rpar, n_draws))\n",
    "    u_idx, sd_idx = range(1, n_rpar+1), range(n_rpar+1, 2*n_rpar+1)\n",
    "    draws_r = betas[None, u_idx, None] + draws*betas[None, sd_idx, None]\n",
    "    betas_r = np.concatenate((np.tile(betas[0], (n_indiv, 1, n_draws)), draws_r), axis=1)\n",
    "    if len(betas) > 5: # beta_3 exists\n",
    "        betas_r = np.concatenate((betas_r, np.tile(betas[5], (n_indiv, 1, n_draws))), axis=1)\n",
    "    if dgp == 'simul-indep-lognorm':\n",
    "        betas_random[:, [1, 2], :] = np.exp(betas_random[:, [1, 2], :])\n",
    "\n",
    "    u = np.einsum(\"npjk,nkr -> npjr\", X, betas_r)\n",
    "    u[u > 70], u[u < -70] = 70, -70\n",
    "    exp_u = np.exp(u)\n",
    "    proba = exp_u/np.sum(exp_u, axis=2, keepdims=True)  #(N, P, J, R)\n",
    "    proba_chosen = np.sum(proba*y[:, :, :, None], axis=2) #(N, P, R)\n",
    "    proba_chosen = np.exp(np.sum(np.log(proba_chosen), axis=1))  # (N, R)\n",
    "    lik = proba_chosen.mean(axis=-1)\n",
    "    return -np.sum(np.log(lik))\n",
    "    \n",
    "\n",
    "def load_nhts_dataset(scale=True, bal=True):\n",
    "    df = pd.read_csv(\"data/nhts_v1.csv\")\n",
    "    varnames = ['fuel_economy', 'odometer', 'fuel_type_cat_2', 'fuel_type_cat_3', 'fuel_type_cat_97', 'vehicle_type_cat_3',\n",
    "                'vehicle_type_cat_4', 'vehicle_type_cat_5', 'vehicle_type_cat_97', 'owned_for_year_plus_cat_2']\n",
    "    X = df[varnames].values\n",
    "    y = df['choice_ind'].values\n",
    "    alts = np.unique(df['veh_id'].values)\n",
    "    panels = df['panel_id'].values\n",
    "    J = len(alts)\n",
    "    N = int(len(X)/J)\n",
    "    K = len(varnames)\n",
    "    X, y = X.reshape(N, J, K), y.reshape(N, J)\n",
    "\n",
    "    X, y, p = balance_panels(X, y, panels)\n",
    "    if scale:\n",
    "        X = min_max_scaling(X, axis=(0, 1, 2))\n",
    "    return X, y, p\n",
    "\n",
    "def load_bev_dataset(scale=True, bal=False):\n",
    "    df = pd.read_csv(\"data/bev_v1.csv\")\n",
    "    varnames = ['Price', 'Acceleration', 'OpCost', 'bev', 'bevRangeRel', 'phev20',\n",
    "                'phev40', 'hev', 'chinese', 'american', 'skorean', 'japanese', 'noBEVFC']\n",
    "    X = df[varnames].values\n",
    "    y = df['ChoiceInd'].values\n",
    "    alts = np.unique(df['Concept'].values)\n",
    "    panels = df['ID'].values\n",
    "    J = len(alts)\n",
    "    K = len(varnames)\n",
    "    _, p_obs = np.unique(panels, return_counts=True)\n",
    "    p_obs = (p_obs/J).astype(int)\n",
    "    P = p_obs[0]\n",
    "    N = len(p_obs)\n",
    "\n",
    "    X, y = X.reshape(N, P, J, K), y.reshape(N, P, J)\n",
    "    \n",
    "    if scale:\n",
    "        X = min_max_scaling(X, axis=(0, 1, 2))\n",
    "    p = np.ones((N, P)).astype(bool)\n",
    "    return X, y, p\n",
    "\n",
    "def load_electricity_dataset(scale=True, bal=False):\n",
    "    df = pd.read_csv(\"data/electricity_long.csv\")\n",
    "    varnames = ['pf', 'cl', 'loc', 'wk', 'tod', 'seas']\n",
    "    X = df[varnames].values\n",
    "    y = df['choice'].values\n",
    "    alts = np.unique(df['alt'].values)\n",
    "    panels = df['id'].values\n",
    "    J = len(alts)\n",
    "    N = int(len(X)/J)\n",
    "    K = len(varnames)\n",
    "    X, y = X.reshape(N, J, K), y.reshape(N, J)\n",
    "    \n",
    "    X, y, p = balance_panels(X, y, panels)\n",
    "    \n",
    "    if scale:\n",
    "        X = min_max_scaling(X, axis=(0, 1, 2))\n",
    "    return X, y, p\n",
    "\n",
    "def split_dataset(X, y, p, eval_perc=.2):\n",
    "    def split_idx(x, perc=0.2):\n",
    "        x = np.random.permutation(np.arange(len(x)))\n",
    "        return x[int(len(x)*perc):], x[:int(len(x)*perc)]\n",
    "    \n",
    "    train_idx, eval_idx = split_idx(X, perc=eval_perc)\n",
    "    return X[train_idx], X[eval_idx], y[train_idx], y[eval_idx], p[train_idx], p[eval_idx]"
   ]
  },
  {
   "cell_type": "markdown",
   "id": "3f3ce5c6-550b-490c-b9b9-e08f9b720514",
   "metadata": {},
   "source": [
    "## Discrete Choice Models"
   ]
  },
  {
   "cell_type": "code",
   "execution_count": 3,
   "id": "52b48b6f-09ae-4d02-a89e-0668de2f01e8",
   "metadata": {},
   "outputs": [],
   "source": [
    "list_diff = lambda a, b: [x for x in a if x not in b]\n",
    "import cupy as cp\n",
    "\n",
    "to_gpu = lambda arr: cp.asarray(arr)\n",
    "to_cpu = lambda arr: cp.asnumpy(arr)\n",
    "\n",
    "class MXL:\n",
    "\n",
    "    def setup_idx(self, n_attr, n_rpar):\n",
    "        self.rpos_x = np.arange(1, n_rpar + 1)\n",
    "        self.fpos_x = list_diff(range(n_attr), self.rpos_x)\n",
    "        self.fpar = np.arange(len(self.fpos_x))\n",
    "        self.rpar_u = np.arange(len(self.fpar), len(self.fpar)+len(self.rpos_x))\n",
    "        self.rpar_sd = self.rpar_u + n_rpar\n",
    "\n",
    "    def loglik(self, betas, X, y, p, draws, batch_size, lnrpar, correl, return_gradient=True):\n",
    "        betas = to_gpu(betas)\n",
    "        n_draws, n_indiv, n_rpar = draws.shape[-1], X.shape[0], draws.shape[1]\n",
    "        batch_size = n_draws if batch_size is None else batch_size\n",
    "        sum_lik, sum_grad = np.zeros(n_indiv), np.zeros((n_indiv, len(betas)))\n",
    "        X = X[:, :, :, np.concatenate((self.fpos_x, self.rpos_x))]  # Reorganize attributes. Fixed first, random last\n",
    "        for batch_start, batch_end in batches_idx(batch_size, n_samples=n_draws):\n",
    "            draws_ = to_gpu(draws[:, :, batch_start:batch_end])\n",
    "            lower_chol = cp.diag(betas[self.rpar_sd])\n",
    "            if correl:\n",
    "                lower_chol[1, 0] = betas[-1]\n",
    "            \n",
    "            betas_rand = betas[None, self.rpar_u, None] +  np.einsum(\"nkr,kq -> nqr\", draws_, lower_chol) \n",
    "            betas_fixed = cp.tile(betas[self.fpar], (n_indiv, draws_.shape[-1], 1)).swapaxes(1, 2)\n",
    "            \n",
    "            betas_rand = betas_rand if not lnrpar else np.exp(betas_rand)\n",
    "            \n",
    "            u = cp.einsum(\"npjk,nkr -> npjr\", X, cp.concatenate([betas_fixed, betas_rand], axis=1))\n",
    "            u[u > 70] = 70\n",
    "            u[u < -70] = -70\n",
    "            exp_u = cp.exp(u)\n",
    "            proba = exp_u/cp.sum(exp_u, axis=2, keepdims=True)  #(N, P, J, R)\n",
    "            proba_chosen = cp.sum(proba*y[:, :, :, None], axis=2) #(N, P, R)\n",
    "            if p is not None:\n",
    "                proba_chosen[p==False, :] = 1\n",
    "            proba_chosen = cp.exp(np.sum(np.log(proba_chosen), axis=1))  # (N, R)\n",
    "            sum_lik += to_cpu(proba_chosen.sum(axis=-1))\n",
    "            if return_gradient:\n",
    "                ympx = cp.einsum('npjr,npjk -> nkr', y[:, :, :, None] - proba, X)\n",
    "                der = cp.ones_like(ympx)\n",
    "                if lnrpar:\n",
    "                    der[:, self.rpar_u, :] = betas_rand\n",
    "                grad = cp.concatenate((ympx*der, ympx[:, len(self.fpar):, :]*der[:, len(self.fpar):, :]*draws_), axis=1)  # (N, K', R)\n",
    "                if correl:\n",
    "                    grad = cp.concatenate((grad, ympx[:, [1], :]*der[:, [1], :]*draws_[:, [1], :]), axis=1)\n",
    "                grad = grad*proba_chosen[:, None, :]  # (N, K', R)\n",
    "                sum_grad += to_cpu(grad.sum(axis=-1))\n",
    "            draws_, proba, proba_chosen, u, exp_u = None, None, None, None, None  # Release GPU memory\n",
    "\n",
    "        lik = sum_lik/n_draws # (N, )\n",
    "        llik = np.sum(np.log(lik))\n",
    "        output = to_cpu(-llik)\n",
    "        if return_gradient:\n",
    "            grad = (sum_grad/n_draws)/lik[:, None]\n",
    "            grad = grad.sum(axis=0)\n",
    "            output = (-llik, -grad)\n",
    "        return output\n",
    "\n",
    "\n",
    "    def fit(self, X, y, p, X_eval, y_eval, p_eval, interact=None, lnrpar=False, correl=False, n_draws=1024, batch_size=None, multi_start=1):\n",
    "        \n",
    "        def _run_estimation(betas):\n",
    "\n",
    "            def optim_iteration(intermediate_result: OptimizeResult):\n",
    "                history['train'].append({'loss': intermediate_result['fun']})\n",
    "                history['eval'].append({'loss': self.loglik(intermediate_result['x'], *fargs_eval, return_gradient=False)})\n",
    "                \n",
    "            history = {'train': [], 'eval': []}\n",
    "            opt_res = minimize(self.loglik, betas, args=fargs, method='L-BFGS-B', jac=True, tol=1e-10,\n",
    "                               options={'maxiter': 10000, 'gtol':1e-6, 'disp': False}, callback=optim_iteration)\n",
    "            #print(f\"{opt_res['success']} \\t {opt_res['fun']:.3f} \\t {np.max(np.abs(opt_res['jac']))}\")\n",
    "            #print(opt_res)\n",
    "            if not opt_res['success']:\n",
    "                print([\"WARNING: The mixed logit model did not converge\", opt_res])\n",
    "            opt_res['history'] = history\n",
    "            return opt_res\n",
    "            \n",
    "        if interact is not None:\n",
    "            X = np.concatenate((X, (X[:, :, :, [interact[0]]]*X[:, :, :, [interact[1]]])), axis=-1)\n",
    "            X_eval = np.concatenate((X_eval, (X_eval[:, :, :, [interact[0]]]*X_eval[:, :, :, [interact[1]]])), axis=-1)\n",
    "        \n",
    "        n_attr, n_rpar = X.shape[-1], X.shape[-1] - 1 - int(interact is not None)\n",
    "        self.setup_idx(n_attr, n_rpar)\n",
    "        draws, draws_eval = np.random.normal(size=(X.shape[0], n_rpar, n_draws)), np.random.normal(size=(X_eval.shape[0], n_rpar, n_draws))\n",
    "        fargs = (to_gpu(X), to_gpu(y), to_gpu(p), draws, batch_size, lnrpar, correl)\n",
    "        fargs_eval = (to_gpu(X_eval), to_gpu(y_eval), to_gpu(p_eval), draws_eval, batch_size, lnrpar, correl)\n",
    "        \n",
    "        n_betas = n_attr + n_rpar + int(correl)\n",
    "        \n",
    "        if multi_start == 1:\n",
    "            betas = np.repeat(0.1, n_betas)\n",
    "            opt_res = _run_estimation(betas)\n",
    "            history = opt_res['history']\n",
    "        else:\n",
    "            betas = np.random.uniform(low=-1, high=1, size=(multi_start, n_betas))\n",
    "            betas[:, self.rpar_sd] = 0.1\n",
    "            all_opt_res = [_run_estimation(betas[i, :]) for i in range(multi_start)]\n",
    "            best_idx = np.argmin([res['fun'] for res in all_opt_res])\n",
    "            history = all_opt_res[best_idx]['history']\n",
    "        return history\n",
    "\n",
    "\n",
    "\n",
    "class MNL:\n",
    "    def loglik(self, betas, X, y, return_gradient=True):\n",
    "        u = np.einsum(\"njk,k -> nj\", X, betas)\n",
    "        exp_u = np.exp(u)\n",
    "        proba = exp_u/np.sum(exp_u, axis=1, keepdims=True)  #(N, J)\n",
    "        lik = np.sum(proba*y, axis=1) #(N, )\n",
    "        llik = np.sum(np.log(lik))\n",
    "        output = -llik \n",
    "        if return_gradient:\n",
    "            grad = np.einsum('nj,njk -> nk', (y-proba), X)\n",
    "            grad = grad.sum(axis=0)\n",
    "            output = -llik, -grad\n",
    "        return output\n",
    "\n",
    "    def fit(self, X, y, X_eval, y_eval):\n",
    "        history = {'train': [], 'eval': []}\n",
    "        \n",
    "        def optim_iteration(intermediate_result: OptimizeResult):\n",
    "            history['train'].append({'loss': intermediate_result['fun']})\n",
    "            history['eval'].append({'loss': self.loglik(intermediate_result['x'], *fargs_eval, return_gradient=False)})\n",
    "            \n",
    "        betas = np.repeat(.1, X.shape[-1])\n",
    "        fargs, fargs_eval = (X, y), (X_eval, y_eval)\n",
    "        opt_res = minimize(self.loglik, betas, args=fargs, method='L-BFGS-B', jac=True, tol=1e-6, options={'maxiter': 500, 'disp': False}, callback=optim_iteration)\n",
    "        if not opt_res['success']:\n",
    "            print([\"WARNING: The multinomial logit model did not converge\", opt_res])\n",
    "        return history"
   ]
  },
  {
   "cell_type": "markdown",
   "id": "41c7ee47-7ffb-4fdb-9e63-a4ac8d471db1",
   "metadata": {
    "id": "41c7ee47-7ffb-4fdb-9e63-a4ac8d471db1"
   },
   "source": [
    "## NN Models in Pytorch"
   ]
  },
  {
   "cell_type": "code",
   "execution_count": 4,
   "id": "2e048091-f8b7-44ab-a6b6-41790e56fb54",
   "metadata": {
    "id": "2e048091-f8b7-44ab-a6b6-41790e56fb54"
   },
   "outputs": [],
   "source": [
    "class ChoiceDataset(torch.utils.data.Dataset):\n",
    "    \"\"\" Formats dataset in PyTorch's standard. \"\"\"\n",
    "    def __init__(self, X, y, p):\n",
    "        self.X = torch.tensor(X).float()\n",
    "        self.y = torch.tensor(y).float()\n",
    "        self.p = torch.tensor(p)\n",
    "\n",
    "    def __len__(self):\n",
    "        return len(self.X)\n",
    "\n",
    "    def __getitem__(self, idx):\n",
    "        return self.X[idx], self.y[idx], self.p[idx]\n",
    "\n",
    "def loglik_loss(proba, y_true, p, use_draws=True):\n",
    "    \"\"\" Loss function. \"\"\"\n",
    "    y_true = y_true[:, :, :, None] if use_draws else y_true\n",
    "    proba_chosen = torch.sum(proba*y_true, axis=2) + 1e-30 \n",
    "    proba_chosen[p==False] = 1 # Account for unbalanced pannels\n",
    "    proba_chosen = torch.exp(torch.sum(torch.log(proba_chosen), axis=1))  # Prod panels\n",
    "    if use_draws:\n",
    "        proba_chosen = torch.mean(proba_chosen, axis=-1)\n",
    "\n",
    "    return -torch.sum(torch.log(proba_chosen))\n",
    "\n",
    "class LogitLayer(nn.Sequential):\n",
    "    \"\"\" Standard mother logit layer \"\"\"\n",
    "    def __init__(self, n_attrs, n_units, dropout_rate):\n",
    "        super(LogitLayer, self).__init__(\n",
    "            nn.Linear(n_attrs, n_units),\n",
    "            nn.LayerNorm(n_units),\n",
    "            nn.LeakyReLU(),\n",
    "            nn.Dropout(dropout_rate)\n",
    "        )\n",
    "\n",
    "class MAPLOutput(nn.Module):\n",
    "    \"\"\" Implements our method. This is the layer where magic happens. \"\"\"\n",
    "    def __init__(self, n_moments, n_draws=1024, use_fosgerau=True):\n",
    "        super(MAPLOutput, self).__init__()\n",
    "        self.use_fosgerau = use_fosgerau\n",
    "\n",
    "        if self.use_fosgerau:\n",
    "            draws_uniform = torch.tensor(scipy.stats.qmc.Sobol(1, scramble=True).random(n_draws)).float().to(device)\n",
    "            self.draws = torch.pow(draws_uniform, torch.arange(n_moments, device=device)).to(device)            \n",
    "        else:\n",
    "            self.draws = torch.randn(n_draws, device=device)\n",
    "\n",
    "    def forward(self, x):\n",
    "        if self.use_fosgerau:\n",
    "            u = torch.einsum(\"npjk,rk -> npjr\", x, self.draws)\n",
    "        else:\n",
    "            u = x[:, :, :, 0, None] + x[:, :, :, 1, None]*self.draws[None, None, None, :]\n",
    "        u[u > 70] = 70\n",
    "        u[u < -70] = -70\n",
    "        exp_u = torch.exp(u)\n",
    "        sum_exp_u = torch.sum(exp_u, axis=2, keepdim=True)\n",
    "        proba = exp_u/sum_exp_u \n",
    "        return proba \n",
    "\n",
    "class MAPL(nn.Module):\n",
    "    \"\"\" Network that integrates all the components. \"\"\"\n",
    "    def __init__(self, n_alt, n_attr, config, n_draws=1024, use_mapl=True, use_fosgerau=True):\n",
    "        super(MAPL, self).__init__()\n",
    "        self.use_fosgerau = use_fosgerau\n",
    "        self.use_mapl = use_mapl\n",
    "        self.config = config\n",
    "        n_moments = config.n_moments\n",
    "        if use_mapl and not use_fosgerau: # MAPL SON\n",
    "            n_moments = 2\n",
    "        self.logit_layer = LogitLayer(n_attr, config.n_units, config.dropout_rate)\n",
    "        if self.config.n_layers > 1:\n",
    "            self.layers = nn.Sequential(*[LogitLayer(config.n_units, config.n_units, config.dropout_rate) for _ in range(config.n_layers - 1)])\n",
    "        self.moments = nn.Linear(config.n_units, n_moments)\n",
    "        if use_mapl:\n",
    "            self.output = MAPLOutput(n_moments, n_draws=n_draws, use_fosgerau=use_fosgerau)\n",
    "        else:\n",
    "            self.output = nn.Sequential(nn.Flatten(2, 3),\n",
    "                                        nn.Linear(n_moments*n_alt, n_alt),\n",
    "                                        nn.Softmax(dim=-1))\n",
    "\n",
    "    def forward(self, x):\n",
    "        # x shape: (n_obs, n_panels, n_alts, n_attrs)\n",
    "        x = self.logit_layer(x)\n",
    "        if self.config.n_layers > 1:\n",
    "            x = self.layers(x)\n",
    "        x = F.leaky_relu(self.moments(x))\n",
    "        x = self.output(x)\n",
    "        return x\n",
    "\n",
    "    def fit(self, train_data, eval_data, n_epochs=100, lr=1e-2, batch_size=64):\n",
    "        train_loader = DataLoader(train_data, batch_size=batch_size)\n",
    "        eval_loader = DataLoader(eval_data, batch_size=batch_size)\n",
    "        optimizer = torch.optim.Adam(self.parameters(), lr=lr)\n",
    "        scheduler = torch.optim.lr_scheduler.ExponentialLR(optimizer, gamma=((lr/10)/lr) ** (1.0 / n_epochs))\n",
    "    \n",
    "        history = {'train': [], 'eval': []}\n",
    "        for epoch in tqdm(range(n_epochs)):\n",
    "                \n",
    "            # Training\n",
    "            self.train()\n",
    "            total_loss = 0\n",
    "            for batch in train_loader:\n",
    "                X_batch, y_batch, p_batch = [d.to(device) for d in batch]\n",
    "                optimizer.zero_grad()\n",
    "                outputs = self.forward(X_batch)\n",
    "                loss = loglik_loss(outputs, y_batch, p_batch, use_draws=self.use_mapl)\n",
    "                loss.backward()\n",
    "                optimizer.step()\n",
    "                total_loss += loss.item()\n",
    "                torch.nn.utils.clip_grad_norm_(self.parameters(), 1.0)\n",
    "            history['train'].append({'epoch': epoch,'loss': total_loss})\n",
    "                    \n",
    "            # Evaluation\n",
    "            self.eval()\n",
    "            with torch.no_grad():\n",
    "                total_loss = 0\n",
    "                for batch in eval_loader:\n",
    "                    X_batch, y_batch, p_batch = [d.to(device) for d in batch]\n",
    "                    outputs = self.forward(X_batch)\n",
    "                    loss = loglik_loss(outputs, y_batch, p_batch, use_draws=self.use_mapl)\n",
    "                    total_loss += loss.item()\n",
    "                history['eval'].append({'epoch': epoch, 'loss': total_loss})\n",
    "            scheduler.step()\n",
    "        return history"
   ]
  },
  {
   "cell_type": "markdown",
   "id": "y9JUERSDlJGc",
   "metadata": {
    "id": "y9JUERSDlJGc"
   },
   "source": [
    "# Run robustness test"
   ]
  },
  {
   "cell_type": "markdown",
   "id": "1d64aa6e-146e-4c1e-be74-875d037c35ee",
   "metadata": {},
   "source": [
    "## Simulated datasets"
   ]
  },
  {
   "cell_type": "code",
   "execution_count": 5,
   "id": "c0639e4a-8609-4151-95ac-3ee14afbaa30",
   "metadata": {
    "scrolled": true
   },
   "outputs": [
    {
     "name": "stdout",
     "output_type": "stream",
     "text": [
      "Trial 1\n"
     ]
    },
    {
     "data": {
      "application/vnd.jupyter.widget-view+json": {
       "model_id": "641bb85dd70a4f548f5f05203f93210f",
       "version_major": 2,
       "version_minor": 0
      },
      "text/plain": [
       "  0%|          | 0/500 [00:00<?, ?it/s]"
      ]
     },
     "metadata": {},
     "output_type": "display_data"
    },
    {
     "data": {
      "application/vnd.jupyter.widget-view+json": {
       "model_id": "f60181130b1842e392ffb52ef0e20aba",
       "version_major": 2,
       "version_minor": 0
      },
      "text/plain": [
       "  0%|          | 0/500 [00:00<?, ?it/s]"
      ]
     },
     "metadata": {},
     "output_type": "display_data"
    },
    {
     "data": {
      "application/vnd.jupyter.widget-view+json": {
       "model_id": "536b013c784946c5bba2ed4e9256db45",
       "version_major": 2,
       "version_minor": 0
      },
      "text/plain": [
       "  0%|          | 0/500 [00:00<?, ?it/s]"
      ]
     },
     "metadata": {},
     "output_type": "display_data"
    },
    {
     "data": {
      "application/vnd.jupyter.widget-view+json": {
       "model_id": "63e53b5023fb483f8e49e3aaab01c806",
       "version_major": 2,
       "version_minor": 0
      },
      "text/plain": [
       "  0%|          | 0/500 [00:00<?, ?it/s]"
      ]
     },
     "metadata": {},
     "output_type": "display_data"
    },
    {
     "name": "stdout",
     "output_type": "stream",
     "text": [
      "Trial 2\n"
     ]
    },
    {
     "data": {
      "application/vnd.jupyter.widget-view+json": {
       "model_id": "0d87b9d762224ae0b229a4d8e102e61d",
       "version_major": 2,
       "version_minor": 0
      },
      "text/plain": [
       "  0%|          | 0/500 [00:00<?, ?it/s]"
      ]
     },
     "metadata": {},
     "output_type": "display_data"
    },
    {
     "data": {
      "application/vnd.jupyter.widget-view+json": {
       "model_id": "8dbdb671dab74d0dbb0f504c83dd6dbc",
       "version_major": 2,
       "version_minor": 0
      },
      "text/plain": [
       "  0%|          | 0/500 [00:00<?, ?it/s]"
      ]
     },
     "metadata": {},
     "output_type": "display_data"
    },
    {
     "data": {
      "application/vnd.jupyter.widget-view+json": {
       "model_id": "21796befc0684698aa2be6b9b1ecab8a",
       "version_major": 2,
       "version_minor": 0
      },
      "text/plain": [
       "  0%|          | 0/500 [00:00<?, ?it/s]"
      ]
     },
     "metadata": {},
     "output_type": "display_data"
    },
    {
     "data": {
      "application/vnd.jupyter.widget-view+json": {
       "model_id": "8d4973c1fe8348659332598ba3b1dc65",
       "version_major": 2,
       "version_minor": 0
      },
      "text/plain": [
       "  0%|          | 0/500 [00:00<?, ?it/s]"
      ]
     },
     "metadata": {},
     "output_type": "display_data"
    },
    {
     "name": "stdout",
     "output_type": "stream",
     "text": [
      "Trial 3\n"
     ]
    },
    {
     "data": {
      "application/vnd.jupyter.widget-view+json": {
       "model_id": "62d73baba81e41f2b547cc5cc17a0dd5",
       "version_major": 2,
       "version_minor": 0
      },
      "text/plain": [
       "  0%|          | 0/500 [00:00<?, ?it/s]"
      ]
     },
     "metadata": {},
     "output_type": "display_data"
    },
    {
     "data": {
      "application/vnd.jupyter.widget-view+json": {
       "model_id": "7a2b10a52e624703a7c698b4f9237ccd",
       "version_major": 2,
       "version_minor": 0
      },
      "text/plain": [
       "  0%|          | 0/500 [00:00<?, ?it/s]"
      ]
     },
     "metadata": {},
     "output_type": "display_data"
    },
    {
     "data": {
      "application/vnd.jupyter.widget-view+json": {
       "model_id": "6d34aec909464ab585ea05800345ac1f",
       "version_major": 2,
       "version_minor": 0
      },
      "text/plain": [
       "  0%|          | 0/500 [00:00<?, ?it/s]"
      ]
     },
     "metadata": {},
     "output_type": "display_data"
    },
    {
     "data": {
      "application/vnd.jupyter.widget-view+json": {
       "model_id": "a2155425df69421f9cf4567b7a3036b9",
       "version_major": 2,
       "version_minor": 0
      },
      "text/plain": [
       "  0%|          | 0/500 [00:00<?, ?it/s]"
      ]
     },
     "metadata": {},
     "output_type": "display_data"
    }
   ],
   "source": [
    "n_epochs = 500\n",
    "n_draws = 1024\n",
    "n_trials = 3\n",
    "n_indiv = 10_000\n",
    "n_panels = 10\n",
    "n_alt = 3\n",
    "dataset = 'simul-indep-norm-nonlinear'  #  'simul-indep-norm' #'simul-indep-norm'    #  'simul-indep-lognorm'  #  'simul-correl-norm' #  'simul-indep-norm-inter' # \n",
    "\n",
    "device = 'cuda:0'\n",
    "\n",
    "history_classic, history_mapl, history_son, history_true, history_mxl = [], [], [], [], []\n",
    "history_mxl_misspec, history_mnl, history_classic_dnn = [], [], []\n",
    "\n",
    "\n",
    "for i in range(n_trials):\n",
    "    print(f\"Trial {i+1}\")\n",
    "    X, y, betas = generate_dataset(dgp=dataset, n_indiv=n_indiv, n_alt=n_alt, n_panels=n_panels)\n",
    "    p, n_attr = np.ones((n_indiv, n_panels)).astype(bool), X.shape[-1]\n",
    "    X = min_max_scaling(X, axis=(0, 1, 2))\n",
    "    \n",
    "    # Split dataset into train/eval subsets\n",
    "    X_train, X_eval, y_train, y_eval, p_train, p_eval = split_dataset(X, y, p=p)\n",
    "    train_data, eval_data = ChoiceDataset(X_train, y_train, p=p_train), ChoiceDataset(X_eval, y_eval, p=p_eval)\n",
    "    batch_size = 256 # len(y_eval) # \n",
    "    \n",
    "    \n",
    "    # Estimate models\n",
    "    config = SimpleNamespace(**dict(n_layers=1, n_units=128, n_moments=12, dropout_rate=0.25, lr=1e-2))\n",
    "\n",
    "    \n",
    "    model = MAPL(n_alt=n_alt, n_attr=n_attr, config=config, n_draws=n_draws, use_mapl=False, use_fosgerau=False).to(device)\n",
    "    history = model.fit(train_data, eval_data, n_epochs=n_epochs, lr=config.lr, batch_size=batch_size)\n",
    "    history_classic.append(history)\n",
    "    \n",
    "    \n",
    "    model = MAPL(n_alt=n_alt, n_attr=n_attr, config=config, n_draws=n_draws, use_mapl=True, use_fosgerau=True).to(device)\n",
    "    history = model.fit(train_data, eval_data, n_epochs=n_epochs, lr=config.lr, batch_size=batch_size)\n",
    "    history_mapl.append(history)\n",
    "    \n",
    "    \n",
    "    model = MAPL(n_alt=n_alt, n_attr=n_attr, config=config, n_draws=n_draws, use_mapl=True, use_fosgerau=False).to(device)\n",
    "    history = model.fit(train_data, eval_data, n_epochs=n_epochs, lr=config.lr, batch_size=batch_size)\n",
    "    history_son.append(history)\n",
    "\n",
    "    model = MAPL(n_alt=n_alt, n_attr=n_attr, config=config, n_draws=n_draws, use_mapl=False, use_fosgerau=False).to(device)\n",
    "    history = model.fit(train_data, eval_data, n_epochs=n_epochs, lr=config.lr, batch_size=batch_size)\n",
    "    history_classic_dnn.append(history)\n",
    "\n",
    "    \n",
    "    lnrpar = True if dataset == 'simul-indep-lognorm' else False\n",
    "    correl = True if dataset == 'simul-correl-norm' else False\n",
    "    interact = [0, 1] if dataset == 'simul-indep-norm-inter' else ([1, 1] if dataset == 'simul-indep-norm-nonlinear' else None)\n",
    "    model = MXL()\n",
    "    history = model.fit(X_train, y_train, p_train, X_eval, y_eval, p_eval, n_draws=n_draws, batch_size=256,\n",
    "                        lnrpar=lnrpar, interact=interact, correl=correl)\n",
    "    history_mxl.append(history)\n",
    "    \n",
    "    \n",
    "    model = MNL()\n",
    "    history = model.fit(X_train[p_train], y_train[p_train], X_eval[p_eval], y_eval[p_eval])\n",
    "    history_mnl.append(history)\n",
    "\n",
    "    model = MXL()\n",
    "    history = model.fit(X_train, y_train, p_train, X_eval, y_eval, p_eval, n_draws=n_draws, batch_size=256,\n",
    "                        lnrpar=False, interact=None, correl=False)\n",
    "    history_mxl_misspec.append(history)\n",
    "    \n"
   ]
  },
  {
   "cell_type": "code",
   "execution_count": 6,
   "id": "3cc6e504-c773-4973-b422-604de9ff8b3d",
   "metadata": {},
   "outputs": [
    {
     "data": {
      "image/png": "[encoded data removed]",
      "text/plain": [
       "<Figure size 1200x500 with 2 Axes>"
      ]
     },
     "metadata": {},
     "output_type": "display_data"
    }
   ],
   "source": [
    "series = [{'color': 'tab:orange', 'name': 'Classic-NN', 'history': history_classic, 'incl_min': False},\n",
    "          {'color': 'tab:olive', 'name': 'Classic-DNN', 'history': history_classic_dnn, 'incl_min': False},\n",
    "          {'color': 'tab:blue', 'name': 'MAPL-FM', 'history': history_mapl, 'incl_min': False},\n",
    "          {'color': 'tab:green', 'name': 'MAPL-Normal', 'history': history_son, 'incl_min': False},\n",
    "          {'color': 'tab:red', 'name': 'MXL', 'history': history_mxl, 'incl_min': True},\n",
    "          {'color': 'tab:purple', 'name': 'MXL-Misspec', 'history': history_mxl_misspec, 'incl_min': True},\n",
    "          {'color': 'tab:pink', 'name': 'MNL', 'history': history_mnl, 'incl_min': True}\n",
    "         ]\n",
    "\n",
    "import matplotlib.pyplot as plt\n",
    "from matplotlib.lines import Line2D\n",
    "\n",
    "def plot_series(ax, series, subset=\"train\"):\n",
    "    alpha = 0.4 if subset==\"train\" else 1.0\n",
    "    for s in series:\n",
    "        for h in s['history']:\n",
    "            data = [x['loss'] for x in h[subset]]\n",
    "            ax.plot(data, s['color'], alpha=alpha)\n",
    "            if s['incl_min']:\n",
    "                ax.plot([np.min(data)]*n_epochs, c=s['color'], linestyle=\"--\", alpha=alpha)\n",
    "    custom_lines = [Line2D([0], [0], color=s['color'], lw=2, alpha=alpha) for s in series]\n",
    "    ax.legend(custom_lines, [s['name'] for s in series])\n",
    "    ax.set(xlabel='Epoch', ylabel='Log-likelihood', title=subset)\n",
    "    \n",
    "\n",
    "fig, (ax1, ax2) = plt.subplots(1, 2, figsize=(12, 5))\n",
    "plot_series(ax1, series, subset=\"eval\")\n",
    "plot_series(ax2, series, subset=\"train\")\n",
    "fig.suptitle(dataset+\" \"+str(n_indiv)+\" individuals\")\n",
    "#plt.show()\n",
    "plt.savefig(f\"plots_{dataset}_{n_indiv}-indiv.png\", dpi=fig.dpi)"
   ]
  },
  {
   "cell_type": "code",
   "execution_count": 7,
   "id": "9cbbd0e6-7fde-4126-b3bd-9ee3afbb12aa",
   "metadata": {},
   "outputs": [],
   "source": [
    "cols, data = [], []\n",
    "for sub in ['eval', 'train']:\n",
    "    for s in series:\n",
    "        for trial, h in enumerate(s['history']):\n",
    "            cols.append(f\"{sub}_{s['name'].lower()}_trial-{trial}\")\n",
    "            data.append([x['loss'] for x in h[sub]])\n",
    "\n",
    "df = pd.DataFrame({cols[i]:pd.Series(data[i]) for i in range(len(cols))}).to_csv(f\"{dataset}_{n_indiv}-indiv.csv\", index=False)"
   ]
  }
 ],
 "metadata": {
  "colab": {
   "provenance": []
  },
  "kernelspec": {
   "display_name": "hf3",
   "language": "python",
   "name": "hf"
  },
  "language_info": {
   "codemirror_mode": {
    "name": "ipython",
    "version": 3
   },
   "file_extension": ".py",
   "mimetype": "text/x-python",
   "name": "python",
   "nbconvert_exporter": "python",
   "pygments_lexer": "ipython3",
   "version": "3.11.7"
  }
 },
 "nbformat": 4,
 "nbformat_minor": 5
}
